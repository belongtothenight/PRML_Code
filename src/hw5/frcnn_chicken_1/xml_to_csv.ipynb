{
 "cells": [
  {
   "cell_type": "code",
   "execution_count": 42,
   "metadata": {},
   "outputs": [],
   "source": [
    "from logging import root\n",
    "from xml.etree import ElementTree\n",
    "import os\n",
    "import pandas as pd  "
   ]
  },
  {
   "cell_type": "code",
   "execution_count": 43,
   "metadata": {},
   "outputs": [
    {
     "name": "stdout",
     "output_type": "stream",
     "text": [
      "/home/11178009/11178009/frcnn/110-PR/xml/2b7d9ca3-e7c0e128.xml\n"
     ]
    }
   ],
   "source": [
    "basepath = \"/home/11278041/11278041/frcnn_chicken_1/110-PR\"\n",
    "cols = [\"filename\", \"type\", \"xmin\", \"xmax\", \"ymin\", \"ymax\"]\n",
    "rows = []\n",
    "fatherpath= os.path.dirname(f'{basepath}/xml/XX')\n",
    "files= os.listdir(fatherpath)\n",
    "for i in files:\n",
    "    file= fatherpath+'/'+str(i)\n",
    "    print(file)\n",
    "    file= open(file, encoding= 'utf-8')\n",
    "    tree = ElementTree.parse(file)\n",
    "\n",
    "    root = tree.getroot()\n",
    "    # for elem in root:\n",
    "    filename = root.find('filename').text\n",
    "\n",
    "    for obj in root.findall(\"object\"):\n",
    "        name = obj.find(\"name\").text\n",
    "        for bndbox in obj.findall(\"bndbox\"):\n",
    "            xmin = bndbox.find(\"xmin\").text\n",
    "            xmax = bndbox.find(\"xmax\").text\n",
    "            ymin = bndbox.find(\"ymin\").text\n",
    "            ymax = bndbox.find(\"ymax\").text\n",
    "            rows.append({\"filename\": filename,\n",
    "                      \"type\": name,\n",
    "                      \"xmin\": xmin,\n",
    "                      \"xmax\": xmax,\n",
    "                      \"ymin\": ymin,\n",
    "                      \"ymax\": ymax})\n",
    "\n",
    "df = pd.DataFrame(rows, columns = cols)  \n",
    "\n",
    "# write dataframe to csv\n",
    "df.to_csv(f'{basepath}/csv/train.csv')"
   ]
  },
  {
   "cell_type": "code",
   "execution_count": null,
   "metadata": {},
   "outputs": [],
   "source": []
  }
 ],
 "metadata": {
  "kernelspec": {
   "display_name": "Python 3",
   "language": "python",
   "name": "python3"
  },
  "language_info": {
   "codemirror_mode": {
    "name": "ipython",
    "version": 3
   },
   "file_extension": ".py",
   "mimetype": "text/x-python",
   "name": "python",
   "nbconvert_exporter": "python",
   "pygments_lexer": "ipython3",
   "version": "3.6.8"
  }
 },
 "nbformat": 4,
 "nbformat_minor": 5
}
